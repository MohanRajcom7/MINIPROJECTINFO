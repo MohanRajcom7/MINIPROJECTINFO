{
  "nbformat": 4,
  "nbformat_minor": 0,
  "metadata": {
    "colab": {
      "provenance": [],
      "authorship_tag": "ABX9TyOfh2bWWwsQ4SedMWmJnA8j",
      "include_colab_link": true
    },
    "kernelspec": {
      "name": "python3",
      "display_name": "Python 3"
    },
    "language_info": {
      "name": "python"
    }
  },
  "cells": [
    {
      "cell_type": "markdown",
      "metadata": {
        "id": "view-in-github",
        "colab_type": "text"
      },
      "source": [
        "<a href=\"https://colab.research.google.com/github/MohanRajcom7/MINIPROJECTINFO/blob/main/DATA%20ANALYTICS(WEB%20SCRAPING%20ON%20BOOKING.COM).ipynb\" target=\"_parent\"><img src=\"https://colab.research.google.com/assets/colab-badge.svg\" alt=\"Open In Colab\"/></a>"
      ]
    },
    {
      "cell_type": "code",
      "execution_count": 1,
      "metadata": {
        "id": "svHDSJsdewE0"
      },
      "outputs": [],
      "source": [
        "from sklearn.ensemble import RandomForestRegressor, GradientBoostingRegressor\n",
        "from sklearn.metrics import mean_squared_error, r2_score\n",
        "from sklearn.model_selection import train_test_split\n",
        "from sklearn.linear_model import LinearRegression\n",
        "from sklearn.tree import DecisionTreeRegressor\n",
        "import matplotlib.pyplot as plt\n",
        "from bs4 import BeautifulSoup\n",
        "import seaborn as sns\n",
        "import pandas as pd\n",
        "import requests"
      ]
    },
    {
      "cell_type": "code",
      "source": [
        "# Base URL without the offset parameter\n",
        "base_url = 'https://www.booking.com/searchresults.en-gb.html?ss=Salem+hotels&ssne=New+Delhi&ssne_untouched=New+Delhi&efdco=1&label=gen173nr-1FCAEoggI46AdIM1gEaGyIAQGYAQm4ARfIAQzYAQHoAQH4AQOIAgGoAgO4At-xprMGwAIB0gIkZDRlNGZjMTktZjY0OS00N2Q3LTkwMTItOTZhMDY2ODU3NGRl2AIG4AIB&aid=304142&lang=en-gb&sb=1&src_elem=sb&src=searchresults&dest_id=-2109974&dest_type=city&ac_position=0&ac_click_type=b&ac_langcode=en-gb&ac_suggestion_list_length=5&search_selected=true&search_pageview_id=27c05d731ea203bd&ac_meta=EgsSCWh0X2lkfjIwNCAFKAU%3D&nflt=ht_id%3D204&checkin=2024-11-26&checkout=2024-11-27&group_adults=2&no_rooms=1&group_children=0&flex_window=1'\n",
        "headers = {\n",
        "    'User-Agent': 'Mozilla/5.0 (X11; CrOS x86_64 8172.45.0) AppleWebKit/537.36 (KHTML, like Gecko) Chrome/51.0.2704.64 Safari/537.36',\n",
        "    'Accept-Language': 'en-US, en;q=0.5'\n",
        "}"
      ],
      "metadata": {
        "id": "R-hSIVZKflH5"
      },
      "execution_count": 2,
      "outputs": []
    },
    {
      "cell_type": "code",
      "source": [
        "hotel_results = []\n",
        "\n",
        "# Loop through pages 1 to 40\n",
        "for page_number in range(0, 250,25):\n",
        "    url = base_url.format(page_number)\n",
        "\n",
        "    response = requests.get(url, headers=headers)\n",
        "    soup = BeautifulSoup(response.text, 'html.parser')\n",
        "\n",
        "    for el in soup.find_all(\"div\", {\"data-testid\": \"property-card\"}):\n",
        "        # Extract rating, handling cases where it's not present\n",
        "        rating_element = el.find(\"div\", {\"data-testid\": \"review-score\"})\n",
        "        rating = rating_element.text.strip().split(\" \")[0] if rating_element else \"N/A\"  # Handle missing ratings\n",
        "\n",
        "        hotel_results.append({\n",
        "            \"name\": el.find(\"div\", {\"data-testid\": \"title\"}).text.strip(),\n",
        "            'description': el.find('div', {'data-testid': 'recommended-units', 'class': 'ccdd44706b'}).text.strip(),\n",
        "            \"location\": el.find(\"span\", {\"data-testid\": \"address\"}).text.strip(),\n",
        "            \"pricing\": el.find(\"span\", {\"data-testid\": \"price-and-discounted-price\"}).text.strip(),\n",
        "            \"rating\": rating  # Use the extracted or default rating\n",
        "        })\n",
        "\n",
        "# Create DataFrame from the collected results\n",
        "hotels = pd.DataFrame(hotel_results)"
      ],
      "metadata": {
        "id": "NKOmJ8kBgEJ-"
      },
      "execution_count": 3,
      "outputs": []
    },
    {
      "cell_type": "code",
      "source": [
        "hotels.head(15)"
      ],
      "metadata": {
        "colab": {
          "base_uri": "https://localhost:8080/",
          "height": 519
        },
        "id": "sV9ckS7shP26",
        "outputId": "05f7fdbd-3e8e-49f5-db05-021f66524399"
      },
      "execution_count": 5,
      "outputs": [
        {
          "output_type": "execute_result",
          "data": {
            "text/plain": [
              "                             name  \\\n",
              "0                    Hotel Elpaso   \n",
              "1                  Radisson Salem   \n",
              "2             YMCA PROGRAM CENTRE   \n",
              "3              CJ Pallazzio,Salem   \n",
              "4                 Sri K residency   \n",
              "5           Hotel Cenneys Gateway   \n",
              "6       Super OYO Hotel O Maruthi   \n",
              "7                Rathna Residency   \n",
              "8                    CM Residency   \n",
              "9   The Palm Residency- Ariyanoor   \n",
              "10                   Laila Palace   \n",
              "11        Lilly residency yercaud   \n",
              "12             HOTEL SALEM CASTLE   \n",
              "13           HOTEL WINDSOR CASTLE   \n",
              "14                   Hotel Pearls   \n",
              "\n",
              "                                          description location pricing  rating  \n",
              "0   Superior King SuitePrivate suite1 queen bedBre...    Salem     $45  Scored  \n",
              "1   Superior Room1 full bedFree cancellationNo pre...    Salem    $112  Scored  \n",
              "2   Deluxe Room1 queen bedBreakfast includedOnly 3...    Salem     $20  Scored  \n",
              "3   Superior Twin Room2 twin bedsOnly 4 rooms left...    Salem     $62  Scored  \n",
              "4   Twin Room with City View2 twin bedsFree cancel...    Salem     $22  Scored  \n",
              "5                        Deluxe Double Room1 king bed    Salem     $65  Scored  \n",
              "6   Classic Triple Room1 queen bedFree cancellatio...    Salem      $6  Scored  \n",
              "7   Standard Double Room2 twin bedsBreakfast inclu...    Salem     $40  Scored  \n",
              "8   Double Room1 full bedOnly 1 room left at this ...    Salem     $19  Scored  \n",
              "9   2×Economy Double Room4 twin bedsFree cancellation    Salem     $51  Scored  \n",
              "10  Deluxe Triple Room2 beds (1 full, 1 futon)Only...    Salem     $28  Scored  \n",
              "11  Double Room1 full bedFree cancellationNo prepa...    Salem     $12     N/A  \n",
              "12  Deluxe Room1 twin bedBreakfast includedFree ca...    Salem     $53  Scored  \n",
              "13  Superior King Room1 king bedBreakfast included...    Salem     $54  Scored  \n",
              "14  Standard Double Room1 king bedFree cancellatio...    Salem     $16  Scored  "
            ],
            "text/html": [
              "\n",
              "  <div id=\"df-b053091a-3201-4b14-a346-387da552c876\" class=\"colab-df-container\">\n",
              "    <div>\n",
              "<style scoped>\n",
              "    .dataframe tbody tr th:only-of-type {\n",
              "        vertical-align: middle;\n",
              "    }\n",
              "\n",
              "    .dataframe tbody tr th {\n",
              "        vertical-align: top;\n",
              "    }\n",
              "\n",
              "    .dataframe thead th {\n",
              "        text-align: right;\n",
              "    }\n",
              "</style>\n",
              "<table border=\"1\" class=\"dataframe\">\n",
              "  <thead>\n",
              "    <tr style=\"text-align: right;\">\n",
              "      <th></th>\n",
              "      <th>name</th>\n",
              "      <th>description</th>\n",
              "      <th>location</th>\n",
              "      <th>pricing</th>\n",
              "      <th>rating</th>\n",
              "    </tr>\n",
              "  </thead>\n",
              "  <tbody>\n",
              "    <tr>\n",
              "      <th>0</th>\n",
              "      <td>Hotel Elpaso</td>\n",
              "      <td>Superior King SuitePrivate suite1 queen bedBre...</td>\n",
              "      <td>Salem</td>\n",
              "      <td>$45</td>\n",
              "      <td>Scored</td>\n",
              "    </tr>\n",
              "    <tr>\n",
              "      <th>1</th>\n",
              "      <td>Radisson Salem</td>\n",
              "      <td>Superior Room1 full bedFree cancellationNo pre...</td>\n",
              "      <td>Salem</td>\n",
              "      <td>$112</td>\n",
              "      <td>Scored</td>\n",
              "    </tr>\n",
              "    <tr>\n",
              "      <th>2</th>\n",
              "      <td>YMCA PROGRAM CENTRE</td>\n",
              "      <td>Deluxe Room1 queen bedBreakfast includedOnly 3...</td>\n",
              "      <td>Salem</td>\n",
              "      <td>$20</td>\n",
              "      <td>Scored</td>\n",
              "    </tr>\n",
              "    <tr>\n",
              "      <th>3</th>\n",
              "      <td>CJ Pallazzio,Salem</td>\n",
              "      <td>Superior Twin Room2 twin bedsOnly 4 rooms left...</td>\n",
              "      <td>Salem</td>\n",
              "      <td>$62</td>\n",
              "      <td>Scored</td>\n",
              "    </tr>\n",
              "    <tr>\n",
              "      <th>4</th>\n",
              "      <td>Sri K residency</td>\n",
              "      <td>Twin Room with City View2 twin bedsFree cancel...</td>\n",
              "      <td>Salem</td>\n",
              "      <td>$22</td>\n",
              "      <td>Scored</td>\n",
              "    </tr>\n",
              "    <tr>\n",
              "      <th>5</th>\n",
              "      <td>Hotel Cenneys Gateway</td>\n",
              "      <td>Deluxe Double Room1 king bed</td>\n",
              "      <td>Salem</td>\n",
              "      <td>$65</td>\n",
              "      <td>Scored</td>\n",
              "    </tr>\n",
              "    <tr>\n",
              "      <th>6</th>\n",
              "      <td>Super OYO Hotel O Maruthi</td>\n",
              "      <td>Classic Triple Room1 queen bedFree cancellatio...</td>\n",
              "      <td>Salem</td>\n",
              "      <td>$6</td>\n",
              "      <td>Scored</td>\n",
              "    </tr>\n",
              "    <tr>\n",
              "      <th>7</th>\n",
              "      <td>Rathna Residency</td>\n",
              "      <td>Standard Double Room2 twin bedsBreakfast inclu...</td>\n",
              "      <td>Salem</td>\n",
              "      <td>$40</td>\n",
              "      <td>Scored</td>\n",
              "    </tr>\n",
              "    <tr>\n",
              "      <th>8</th>\n",
              "      <td>CM Residency</td>\n",
              "      <td>Double Room1 full bedOnly 1 room left at this ...</td>\n",
              "      <td>Salem</td>\n",
              "      <td>$19</td>\n",
              "      <td>Scored</td>\n",
              "    </tr>\n",
              "    <tr>\n",
              "      <th>9</th>\n",
              "      <td>The Palm Residency- Ariyanoor</td>\n",
              "      <td>2×Economy Double Room4 twin bedsFree cancellation</td>\n",
              "      <td>Salem</td>\n",
              "      <td>$51</td>\n",
              "      <td>Scored</td>\n",
              "    </tr>\n",
              "    <tr>\n",
              "      <th>10</th>\n",
              "      <td>Laila Palace</td>\n",
              "      <td>Deluxe Triple Room2 beds (1 full, 1 futon)Only...</td>\n",
              "      <td>Salem</td>\n",
              "      <td>$28</td>\n",
              "      <td>Scored</td>\n",
              "    </tr>\n",
              "    <tr>\n",
              "      <th>11</th>\n",
              "      <td>Lilly residency yercaud</td>\n",
              "      <td>Double Room1 full bedFree cancellationNo prepa...</td>\n",
              "      <td>Salem</td>\n",
              "      <td>$12</td>\n",
              "      <td>N/A</td>\n",
              "    </tr>\n",
              "    <tr>\n",
              "      <th>12</th>\n",
              "      <td>HOTEL SALEM CASTLE</td>\n",
              "      <td>Deluxe Room1 twin bedBreakfast includedFree ca...</td>\n",
              "      <td>Salem</td>\n",
              "      <td>$53</td>\n",
              "      <td>Scored</td>\n",
              "    </tr>\n",
              "    <tr>\n",
              "      <th>13</th>\n",
              "      <td>HOTEL WINDSOR CASTLE</td>\n",
              "      <td>Superior King Room1 king bedBreakfast included...</td>\n",
              "      <td>Salem</td>\n",
              "      <td>$54</td>\n",
              "      <td>Scored</td>\n",
              "    </tr>\n",
              "    <tr>\n",
              "      <th>14</th>\n",
              "      <td>Hotel Pearls</td>\n",
              "      <td>Standard Double Room1 king bedFree cancellatio...</td>\n",
              "      <td>Salem</td>\n",
              "      <td>$16</td>\n",
              "      <td>Scored</td>\n",
              "    </tr>\n",
              "  </tbody>\n",
              "</table>\n",
              "</div>\n",
              "    <div class=\"colab-df-buttons\">\n",
              "\n",
              "  <div class=\"colab-df-container\">\n",
              "    <button class=\"colab-df-convert\" onclick=\"convertToInteractive('df-b053091a-3201-4b14-a346-387da552c876')\"\n",
              "            title=\"Convert this dataframe to an interactive table.\"\n",
              "            style=\"display:none;\">\n",
              "\n",
              "  <svg xmlns=\"http://www.w3.org/2000/svg\" height=\"24px\" viewBox=\"0 -960 960 960\">\n",
              "    <path d=\"M120-120v-720h720v720H120Zm60-500h600v-160H180v160Zm220 220h160v-160H400v160Zm0 220h160v-160H400v160ZM180-400h160v-160H180v160Zm440 0h160v-160H620v160ZM180-180h160v-160H180v160Zm440 0h160v-160H620v160Z\"/>\n",
              "  </svg>\n",
              "    </button>\n",
              "\n",
              "  <style>\n",
              "    .colab-df-container {\n",
              "      display:flex;\n",
              "      gap: 12px;\n",
              "    }\n",
              "\n",
              "    .colab-df-convert {\n",
              "      background-color: #E8F0FE;\n",
              "      border: none;\n",
              "      border-radius: 50%;\n",
              "      cursor: pointer;\n",
              "      display: none;\n",
              "      fill: #1967D2;\n",
              "      height: 32px;\n",
              "      padding: 0 0 0 0;\n",
              "      width: 32px;\n",
              "    }\n",
              "\n",
              "    .colab-df-convert:hover {\n",
              "      background-color: #E2EBFA;\n",
              "      box-shadow: 0px 1px 2px rgba(60, 64, 67, 0.3), 0px 1px 3px 1px rgba(60, 64, 67, 0.15);\n",
              "      fill: #174EA6;\n",
              "    }\n",
              "\n",
              "    .colab-df-buttons div {\n",
              "      margin-bottom: 4px;\n",
              "    }\n",
              "\n",
              "    [theme=dark] .colab-df-convert {\n",
              "      background-color: #3B4455;\n",
              "      fill: #D2E3FC;\n",
              "    }\n",
              "\n",
              "    [theme=dark] .colab-df-convert:hover {\n",
              "      background-color: #434B5C;\n",
              "      box-shadow: 0px 1px 3px 1px rgba(0, 0, 0, 0.15);\n",
              "      filter: drop-shadow(0px 1px 2px rgba(0, 0, 0, 0.3));\n",
              "      fill: #FFFFFF;\n",
              "    }\n",
              "  </style>\n",
              "\n",
              "    <script>\n",
              "      const buttonEl =\n",
              "        document.querySelector('#df-b053091a-3201-4b14-a346-387da552c876 button.colab-df-convert');\n",
              "      buttonEl.style.display =\n",
              "        google.colab.kernel.accessAllowed ? 'block' : 'none';\n",
              "\n",
              "      async function convertToInteractive(key) {\n",
              "        const element = document.querySelector('#df-b053091a-3201-4b14-a346-387da552c876');\n",
              "        const dataTable =\n",
              "          await google.colab.kernel.invokeFunction('convertToInteractive',\n",
              "                                                    [key], {});\n",
              "        if (!dataTable) return;\n",
              "\n",
              "        const docLinkHtml = 'Like what you see? Visit the ' +\n",
              "          '<a target=\"_blank\" href=https://colab.research.google.com/notebooks/data_table.ipynb>data table notebook</a>'\n",
              "          + ' to learn more about interactive tables.';\n",
              "        element.innerHTML = '';\n",
              "        dataTable['output_type'] = 'display_data';\n",
              "        await google.colab.output.renderOutput(dataTable, element);\n",
              "        const docLink = document.createElement('div');\n",
              "        docLink.innerHTML = docLinkHtml;\n",
              "        element.appendChild(docLink);\n",
              "      }\n",
              "    </script>\n",
              "  </div>\n",
              "\n",
              "\n",
              "<div id=\"df-6ac0968c-8e54-4178-887b-9008dd661484\">\n",
              "  <button class=\"colab-df-quickchart\" onclick=\"quickchart('df-6ac0968c-8e54-4178-887b-9008dd661484')\"\n",
              "            title=\"Suggest charts\"\n",
              "            style=\"display:none;\">\n",
              "\n",
              "<svg xmlns=\"http://www.w3.org/2000/svg\" height=\"24px\"viewBox=\"0 0 24 24\"\n",
              "     width=\"24px\">\n",
              "    <g>\n",
              "        <path d=\"M19 3H5c-1.1 0-2 .9-2 2v14c0 1.1.9 2 2 2h14c1.1 0 2-.9 2-2V5c0-1.1-.9-2-2-2zM9 17H7v-7h2v7zm4 0h-2V7h2v10zm4 0h-2v-4h2v4z\"/>\n",
              "    </g>\n",
              "</svg>\n",
              "  </button>\n",
              "\n",
              "<style>\n",
              "  .colab-df-quickchart {\n",
              "      --bg-color: #E8F0FE;\n",
              "      --fill-color: #1967D2;\n",
              "      --hover-bg-color: #E2EBFA;\n",
              "      --hover-fill-color: #174EA6;\n",
              "      --disabled-fill-color: #AAA;\n",
              "      --disabled-bg-color: #DDD;\n",
              "  }\n",
              "\n",
              "  [theme=dark] .colab-df-quickchart {\n",
              "      --bg-color: #3B4455;\n",
              "      --fill-color: #D2E3FC;\n",
              "      --hover-bg-color: #434B5C;\n",
              "      --hover-fill-color: #FFFFFF;\n",
              "      --disabled-bg-color: #3B4455;\n",
              "      --disabled-fill-color: #666;\n",
              "  }\n",
              "\n",
              "  .colab-df-quickchart {\n",
              "    background-color: var(--bg-color);\n",
              "    border: none;\n",
              "    border-radius: 50%;\n",
              "    cursor: pointer;\n",
              "    display: none;\n",
              "    fill: var(--fill-color);\n",
              "    height: 32px;\n",
              "    padding: 0;\n",
              "    width: 32px;\n",
              "  }\n",
              "\n",
              "  .colab-df-quickchart:hover {\n",
              "    background-color: var(--hover-bg-color);\n",
              "    box-shadow: 0 1px 2px rgba(60, 64, 67, 0.3), 0 1px 3px 1px rgba(60, 64, 67, 0.15);\n",
              "    fill: var(--button-hover-fill-color);\n",
              "  }\n",
              "\n",
              "  .colab-df-quickchart-complete:disabled,\n",
              "  .colab-df-quickchart-complete:disabled:hover {\n",
              "    background-color: var(--disabled-bg-color);\n",
              "    fill: var(--disabled-fill-color);\n",
              "    box-shadow: none;\n",
              "  }\n",
              "\n",
              "  .colab-df-spinner {\n",
              "    border: 2px solid var(--fill-color);\n",
              "    border-color: transparent;\n",
              "    border-bottom-color: var(--fill-color);\n",
              "    animation:\n",
              "      spin 1s steps(1) infinite;\n",
              "  }\n",
              "\n",
              "  @keyframes spin {\n",
              "    0% {\n",
              "      border-color: transparent;\n",
              "      border-bottom-color: var(--fill-color);\n",
              "      border-left-color: var(--fill-color);\n",
              "    }\n",
              "    20% {\n",
              "      border-color: transparent;\n",
              "      border-left-color: var(--fill-color);\n",
              "      border-top-color: var(--fill-color);\n",
              "    }\n",
              "    30% {\n",
              "      border-color: transparent;\n",
              "      border-left-color: var(--fill-color);\n",
              "      border-top-color: var(--fill-color);\n",
              "      border-right-color: var(--fill-color);\n",
              "    }\n",
              "    40% {\n",
              "      border-color: transparent;\n",
              "      border-right-color: var(--fill-color);\n",
              "      border-top-color: var(--fill-color);\n",
              "    }\n",
              "    60% {\n",
              "      border-color: transparent;\n",
              "      border-right-color: var(--fill-color);\n",
              "    }\n",
              "    80% {\n",
              "      border-color: transparent;\n",
              "      border-right-color: var(--fill-color);\n",
              "      border-bottom-color: var(--fill-color);\n",
              "    }\n",
              "    90% {\n",
              "      border-color: transparent;\n",
              "      border-bottom-color: var(--fill-color);\n",
              "    }\n",
              "  }\n",
              "</style>\n",
              "\n",
              "  <script>\n",
              "    async function quickchart(key) {\n",
              "      const quickchartButtonEl =\n",
              "        document.querySelector('#' + key + ' button');\n",
              "      quickchartButtonEl.disabled = true;  // To prevent multiple clicks.\n",
              "      quickchartButtonEl.classList.add('colab-df-spinner');\n",
              "      try {\n",
              "        const charts = await google.colab.kernel.invokeFunction(\n",
              "            'suggestCharts', [key], {});\n",
              "      } catch (error) {\n",
              "        console.error('Error during call to suggestCharts:', error);\n",
              "      }\n",
              "      quickchartButtonEl.classList.remove('colab-df-spinner');\n",
              "      quickchartButtonEl.classList.add('colab-df-quickchart-complete');\n",
              "    }\n",
              "    (() => {\n",
              "      let quickchartButtonEl =\n",
              "        document.querySelector('#df-6ac0968c-8e54-4178-887b-9008dd661484 button');\n",
              "      quickchartButtonEl.style.display =\n",
              "        google.colab.kernel.accessAllowed ? 'block' : 'none';\n",
              "    })();\n",
              "  </script>\n",
              "</div>\n",
              "\n",
              "    </div>\n",
              "  </div>\n"
            ],
            "application/vnd.google.colaboratory.intrinsic+json": {
              "type": "dataframe",
              "variable_name": "hotels",
              "summary": "{\n  \"name\": \"hotels\",\n  \"rows\": 250,\n  \"fields\": [\n    {\n      \"column\": \"name\",\n      \"properties\": {\n        \"dtype\": \"category\",\n        \"num_unique_values\": 26,\n        \"samples\": [\n          \"CM Residency\",\n          \"Balaji nivas\",\n          \"Hotel Elpaso\"\n        ],\n        \"semantic_type\": \"\",\n        \"description\": \"\"\n      }\n    },\n    {\n      \"column\": \"description\",\n      \"properties\": {\n        \"dtype\": \"category\",\n        \"num_unique_values\": 24,\n        \"samples\": [\n          \"Double Room1 full bedOnly 1 room left at this price on our site\",\n          \"Standard Double Room2 twin bedsOnly 2 rooms left at this price on our site\",\n          \"Superior King SuitePrivate suite1 queen bedBreakfast includedFree cancellationNo prepayment needed \\u2013 pay at the propertyOnly 5 left at this price on our site\"\n        ],\n        \"semantic_type\": \"\",\n        \"description\": \"\"\n      }\n    },\n    {\n      \"column\": \"location\",\n      \"properties\": {\n        \"dtype\": \"category\",\n        \"num_unique_values\": 3,\n        \"samples\": [\n          \"Salem\",\n          \"S\\u016bramangalam\",\n          \"Yercaud\"\n        ],\n        \"semantic_type\": \"\",\n        \"description\": \"\"\n      }\n    },\n    {\n      \"column\": \"pricing\",\n      \"properties\": {\n        \"dtype\": \"category\",\n        \"num_unique_values\": 28,\n        \"samples\": [\n          \"$51\",\n          \"$21\",\n          \"$19\"\n        ],\n        \"semantic_type\": \"\",\n        \"description\": \"\"\n      }\n    },\n    {\n      \"column\": \"rating\",\n      \"properties\": {\n        \"dtype\": \"category\",\n        \"num_unique_values\": 2,\n        \"samples\": [\n          \"N/A\",\n          \"Scored\"\n        ],\n        \"semantic_type\": \"\",\n        \"description\": \"\"\n      }\n    }\n  ]\n}"
            }
          },
          "metadata": {},
          "execution_count": 5
        }
      ]
    },
    {
      "cell_type": "code",
      "source": [
        "hotels.info()"
      ],
      "metadata": {
        "colab": {
          "base_uri": "https://localhost:8080/"
        },
        "id": "_CDSi04YhhJd",
        "outputId": "8935d589-57e2-4d65-d2e0-b04e79f11e4f"
      },
      "execution_count": 6,
      "outputs": [
        {
          "output_type": "stream",
          "name": "stdout",
          "text": [
            "<class 'pandas.core.frame.DataFrame'>\n",
            "RangeIndex: 250 entries, 0 to 249\n",
            "Data columns (total 5 columns):\n",
            " #   Column       Non-Null Count  Dtype \n",
            "---  ------       --------------  ----- \n",
            " 0   name         250 non-null    object\n",
            " 1   description  250 non-null    object\n",
            " 2   location     250 non-null    object\n",
            " 3   pricing      250 non-null    object\n",
            " 4   rating       250 non-null    object\n",
            "dtypes: object(5)\n",
            "memory usage: 9.9+ KB\n"
          ]
        }
      ]
    },
    {
      "cell_type": "code",
      "source": [
        "\"\"\"hotels['pricing'] = hotels['pricing'].str.replace('[€,US\\xa0]', '', regex=True).astype(float)\n",
        "hotels['rating'] = hotels['rating'].str.extract('(\\d+\\.\\d+)')\n",
        "# Convert the 'rating' column to numeric\n",
        "hotels['rating'] = pd.to_numeric(hotels['rating'], errors='coerce')\"\"\"\n",
        "# Clean and convert 'pricing'\n",
        "hotels['pricing'] = hotels['pricing'].astype(str).str.replace('[€,US\\xa0]', '', regex=True)\n",
        "hotels['pricing'] = pd.to_numeric(hotels['pricing'], errors='coerce')  # Convert to float safely\n",
        "\n",
        "# Clean and extract 'rating'\n",
        "hotels['rating'] = hotels['rating'].astype(str).str.extract('(\\d+\\.\\d+)')  # Extract ratings as strings\n",
        "hotels['rating'] = pd.to_numeric(hotels['rating'], errors='coerce')  # Convert to numeric safely\n"
      ],
      "metadata": {
        "id": "_FeQzE5thp5h"
      },
      "execution_count": 20,
      "outputs": []
    },
    {
      "cell_type": "code",
      "source": [
        "\n",
        "# Drop rows with missing values in the 'rating' column\n",
        "hotels.dropna(subset=['rating'],inplace=True)"
      ],
      "metadata": {
        "id": "rU79IbA6jRXW"
      },
      "execution_count": 21,
      "outputs": []
    },
    {
      "cell_type": "code",
      "source": [
        "# Descriptive statistics\n",
        "print(hotels.describe())\n",
        "\n",
        "# Unique values and value counts\n",
        "print(hotels['location'].value_counts())"
      ],
      "metadata": {
        "colab": {
          "base_uri": "https://localhost:8080/"
        },
        "id": "E0xFQNAvjWlE",
        "outputId": "56e8dfa3-37d5-4a98-b66c-884b8a8cacf7"
      },
      "execution_count": 22,
      "outputs": [
        {
          "output_type": "stream",
          "name": "stdout",
          "text": [
            "       pricing  rating\n",
            "count      0.0     0.0\n",
            "mean       NaN     NaN\n",
            "std        NaN     NaN\n",
            "min        NaN     NaN\n",
            "25%        NaN     NaN\n",
            "50%        NaN     NaN\n",
            "75%        NaN     NaN\n",
            "max        NaN     NaN\n",
            "Series([], Name: count, dtype: int64)\n"
          ]
        }
      ]
    },
    {
      "cell_type": "code",
      "source": [
        "# Correlation matrix\n",
        "correlation_matrix = hotels.corr()\n",
        "print(correlation_matrix)"
      ],
      "metadata": {
        "colab": {
          "base_uri": "https://localhost:8080/"
        },
        "id": "2t2fmva3jc7h",
        "outputId": "a44691ea-4bf2-4225-f2d1-37f4b84dfcda"
      },
      "execution_count": 23,
      "outputs": [
        {
          "output_type": "stream",
          "name": "stdout",
          "text": [
            "             name  description  location  pricing  rating\n",
            "name          NaN          NaN       NaN      NaN     NaN\n",
            "description   NaN          NaN       NaN      NaN     NaN\n",
            "location      NaN          NaN       NaN      NaN     NaN\n",
            "pricing       NaN          NaN       NaN      NaN     NaN\n",
            "rating        NaN          NaN       NaN      NaN     NaN\n"
          ]
        }
      ]
    },
    {
      "cell_type": "code",
      "source": [
        "data = {'pricing': ['100€', '200 US', '300', 'invalid', '400€']}\n",
        "hotels = pd.DataFrame(data)\n",
        "\n",
        "# Clean 'pricing'\n",
        "hotels['pricing'] = hotels['pricing'].astype(str).str.replace('[€,US\\xa0]', '', regex=True)\n",
        "hotels['pricing'] = pd.to_numeric(hotels['pricing'], errors='coerce')  # Convert to float safely\n",
        "hotels = hotels.dropna(subset=['pricing'])\n"
      ],
      "metadata": {
        "id": "qFL878BUh7Gq"
      },
      "execution_count": 41,
      "outputs": []
    },
    {
      "cell_type": "code",
      "source": [
        "# Distribution plot for pricing\n",
        "\"\"\"sns.histplot(hotels['pricing'], kde=True)\n",
        "plt.show()\"\"\"\n",
        "sns.histplot(hotels['pricing'], kde=True)\n",
        "plt.title(\"Pricing Distribution\")\n",
        "plt.xlabel(\"Price\")\n",
        "plt.ylabel(\"Frequency\")\n",
        "plt.show()"
      ],
      "metadata": {
        "colab": {
          "base_uri": "https://localhost:8080/",
          "height": 472
        },
        "id": "C6OosajbmTUA",
        "outputId": "71631c44-3743-4815-cdb3-4f2106ed5df0"
      },
      "execution_count": 42,
      "outputs": [
        {
          "output_type": "display_data",
          "data": {
            "text/plain": [
              "<Figure size 640x480 with 1 Axes>"
            ],
            "image/png": "[encoded data removed]"
          },
          "metadata": {}
        }
      ]
    },
    {
      "cell_type": "code",
      "source": [
        "sns.scatterplot(data=hotels, x='rating', y='pricing')\n",
        "plt.title(\"Rating vs Pricing\")\n",
        "plt.xlabel(\"Rating\")\n",
        "plt.ylabel(\"Pricing\")\n",
        "plt.show()\n"
      ],
      "metadata": {
        "colab": {
          "base_uri": "https://localhost:8080/",
          "height": 472
        },
        "id": "6xOB4kZjmXtB",
        "outputId": "46c21440-6857-41c7-fe6f-d177f1b94acb"
      },
      "execution_count": 50,
      "outputs": [
        {
          "output_type": "display_data",
          "data": {
            "text/plain": [
              "<Figure size 640x480 with 1 Axes>"
            ],
            "image/png": "[encoded data removed]"
          },
          "metadata": {}
        }
      ]
    },
    {
      "cell_type": "code",
      "source": [
        "# Clean Data\n",
        "hotels['rating'] = pd.to_numeric(hotels['rating'], errors='coerce')\n",
        "hotels['pricing'] = pd.to_numeric(hotels['pricing'], errors='coerce')\n",
        "hotels = hotels.dropna(subset=['rating', 'pricing'])  # Remove rows with NaN\n",
        "\n",
        "# Debugging: Ensure columns exist and have valid data\n",
        "print(hotels.columns)  # Check column names\n",
        "print(hotels[['rating', 'pricing']].head())  # Check values\n",
        "\n",
        "# Scatter Plot\n",
        "sns.scatterplot(data=hotels, x='rating', y='pricing')\n",
        "plt.title(\"Rating vs Pricing\")\n",
        "plt.xlabel(\"Rating\")\n",
        "plt.ylabel(\"Pricing\")\n",
        "plt.show()\n"
      ],
      "metadata": {
        "id": "lkoy7ClToMgo",
        "outputId": "8d30cea4-cf61-4497-9672-218f1b5ce436",
        "colab": {
          "base_uri": "https://localhost:8080/",
          "height": 576
        }
      },
      "execution_count": 51,
      "outputs": [
        {
          "output_type": "stream",
          "name": "stdout",
          "text": [
            "Index(['rating', 'pricing'], dtype='object')\n",
            "   rating  pricing\n",
            "0     4.5    100.0\n",
            "1     3.8    200.0\n",
            "2     4.0    300.0\n",
            "4     5.0    400.0\n"
          ]
        },
        {
          "output_type": "display_data",
          "data": {
            "text/plain": [
              "<Figure size 640x480 with 1 Axes>"
            ],
            "image/png": "[encoded data removed]"
          },
          "metadata": {}
        }
      ]
    },
    {
      "cell_type": "code",
      "source": [
        "sns.scatterplot(x=[1, 2, 3, 4], y=[10, 20, 30, 40])\n",
        "plt.title(\"Dummy Scatter Plot\")\n",
        "plt.xlabel(\"X-axis\")\n",
        "plt.ylabel(\"Y-axis\")\n",
        "plt.show()\n"
      ],
      "metadata": {
        "id": "eOfoUK9SnCIK",
        "outputId": "785676fc-c29a-4df7-b88e-45060145301f",
        "colab": {
          "base_uri": "https://localhost:8080/",
          "height": 472
        }
      },
      "execution_count": 52,
      "outputs": [
        {
          "output_type": "display_data",
          "data": {
            "text/plain": [
              "<Figure size 640x480 with 1 Axes>"
            ],
            "image/png": "[encoded data removed]"
          },
          "metadata": {}
        }
      ]
    },
    {
      "cell_type": "code",
      "source": [
        "# Box plot for 'pricing'\n",
        "sns.boxplot(x=hotels['pricing'])\n",
        "plt.show()"
      ],
      "metadata": {
        "colab": {
          "base_uri": "https://localhost:8080/",
          "height": 449
        },
        "id": "ZrvwYS5cmb--",
        "outputId": "63bdc7da-f169-4987-b881-fe3f0443d437"
      },
      "execution_count": 53,
      "outputs": [
        {
          "output_type": "display_data",
          "data": {
            "text/plain": [
              "<Figure size 640x480 with 1 Axes>"
            ],
            "image/png": "[encoded data removed]"
          },
          "metadata": {}
        }
      ]
    },
    {
      "cell_type": "code",
      "source": [
        "# Split data into training and testing sets\n",
        "X_train, X_test, y_train, y_test = train_test_split(hotels[['rating']], hotels['pricing'], test_size=0.2, random_state=42)\n",
        "\n",
        "# Create and train the linear regression model\n",
        "model = LinearRegression()\n",
        "model.fit(X_train, y_train)\n",
        "\n",
        "# Make predictions on the test set\n",
        "predictions = model.predict(X_test)\n",
        "\n",
        "# Evaluate the model\n",
        "mse = mean_squared_error(y_test, predictions)\n",
        "r2 = r2_score(y_test, predictions)\n",
        "\n",
        "print(f'Mean Squared Error: {mse}')\n",
        "print(f'R-squared: {r2}')"
      ],
      "metadata": {
        "colab": {
          "base_uri": "https://localhost:8080/"
        },
        "id": "5S-lT9-pmaH3",
        "outputId": "4b52adca-376d-43e2-bf73-e275c32cf787"
      },
      "execution_count": 54,
      "outputs": [
        {
          "output_type": "stream",
          "name": "stdout",
          "text": [
            "Mean Squared Error: 11.111111111110985\n",
            "R-squared: nan\n"
          ]
        },
        {
          "output_type": "stream",
          "name": "stderr",
          "text": [
            "/usr/local/lib/python3.10/dist-packages/sklearn/metrics/_regression.py:1211: UndefinedMetricWarning: R^2 score is not well-defined with less than two samples.\n",
            "  warnings.warn(msg, UndefinedMetricWarning)\n"
          ]
        }
      ]
    },
    {
      "cell_type": "code",
      "source": [
        "Q1 = hotels['pricing'].quantile(0.25)\n",
        "Q3 = hotels['pricing'].quantile(0.75)\n",
        "IQR = Q3 - Q1\n",
        "\n",
        "lower_bound = Q1 - 1.5 * IQR\n",
        "upper_bound = Q3 + 1.5 * IQR\n",
        "\n",
        "count_outliers = hotels[(hotels['pricing'] < lower_bound) | (hotels['pricing'] > upper_bound)].shape[0]\n",
        "\n",
        "print(f'Number of outliers in pricing: {count_outliers}')"
      ],
      "metadata": {
        "colab": {
          "base_uri": "https://localhost:8080/"
        },
        "id": "iYDzaS-LmoLi",
        "outputId": "a63fd9f3-2c52-45cc-f247-1ca0b2eafea0"
      },
      "execution_count": 55,
      "outputs": [
        {
          "output_type": "stream",
          "name": "stdout",
          "text": [
            "Number of outliers in pricing: 0\n"
          ]
        }
      ]
    },
    {
      "cell_type": "code",
      "source": [
        "Q1 = hotels['pricing'].quantile(0.25)\n",
        "Q3 = hotels['pricing'].quantile(0.75)\n",
        "IQR = Q3 - Q1"
      ],
      "metadata": {
        "id": "cb5nleVrmsn3"
      },
      "execution_count": 56,
      "outputs": []
    },
    {
      "cell_type": "code",
      "source": [
        "lower_bound = Q1 - 1.5 * IQR\n",
        "upper_bound = Q3 + 1.5 * IQR\n",
        "\n",
        "outliers = hotels[(hotels['pricing'] < lower_bound) | (hotels['pricing'] > upper_bound)]\n",
        "# Remove outliers\n",
        "hotels_no_outliers = hotels[(hotels['pricing'] >= lower_bound) & (hotels['pricing'] <= upper_bound)]"
      ],
      "metadata": {
        "id": "dXNVNwknm_8i"
      },
      "execution_count": 57,
      "outputs": []
    },
    {
      "cell_type": "code",
      "source": [
        "# Box plot for 'pricing'\n",
        "sns.boxplot(x=hotels_no_outliers['pricing'])\n",
        "plt.show()"
      ],
      "metadata": {
        "colab": {
          "base_uri": "https://localhost:8080/",
          "height": 449
        },
        "id": "4mAWJmfWnC_i",
        "outputId": "7da6267b-8f29-4921-cc07-2c4c4cd9b845"
      },
      "execution_count": 58,
      "outputs": [
        {
          "output_type": "display_data",
          "data": {
            "text/plain": [
              "<Figure size 640x480 with 1 Axes>"
            ],
            "image/png": "[encoded data removed]"
          },
          "metadata": {}
        }
      ]
    },
    {
      "cell_type": "code",
      "source": [
        "# Prepare the data\n",
        "X = hotels_no_outliers[['rating']]\n",
        "y = hotels_no_outliers['pricing']\n",
        "\n",
        "# Split the data into training and testing sets\n",
        "X_train, X_test, y_train, y_test = train_test_split(X, y, test_size=0.2, random_state=42)\n",
        "\n",
        "# Models\n",
        "models = {\n",
        "    'Linear Regression': LinearRegression(),\n",
        "    'Decision Tree Regressor': DecisionTreeRegressor(random_state=42),\n",
        "    'Random Forest Regressor': RandomForestRegressor(n_estimators=100, random_state=42),\n",
        "    'Gradient Boosting Regressor': GradientBoostingRegressor(n_estimators=100, learning_rate=0.1, random_state=42)\n",
        "}\n",
        "\n",
        "# Train and evaluate each model\n",
        "results = {}\n",
        "for model_name, model in models.items():\n",
        "    model.fit(X_train, y_train)\n",
        "    predictions = model.predict(X_test)\n",
        "    mse = mean_squared_error(y_test, predictions)\n",
        "    r_squared = r2_score(y_test, predictions)\n",
        "    results[model_name] = {'MSE': mse, 'R-squared': r_squared}\n",
        "\n",
        "# Print the results\n",
        "for model_name, scores in results.items():\n",
        "    print(f\"{model_name} - MSE: {scores['MSE']}, R-squared: {scores['R-squared']}\")\n",
        "\n",
        "# Choose the best model based on MSE or R-squared (based on preference)\n",
        "best_model = min(results, key=lambda k: results[k]['MSE'])\n",
        "print(f\"\\nBest Model based on MSE: {best_model}\")"
      ],
      "metadata": {
        "id": "f9IdjKwOnIlq",
        "outputId": "7c9b620c-0af9-4601-ce0b-7361804007b9",
        "colab": {
          "base_uri": "https://localhost:8080/"
        }
      },
      "execution_count": 59,
      "outputs": [
        {
          "output_type": "stream",
          "name": "stderr",
          "text": [
            "/usr/local/lib/python3.10/dist-packages/sklearn/metrics/_regression.py:1211: UndefinedMetricWarning: R^2 score is not well-defined with less than two samples.\n",
            "  warnings.warn(msg, UndefinedMetricWarning)\n",
            "/usr/local/lib/python3.10/dist-packages/sklearn/metrics/_regression.py:1211: UndefinedMetricWarning: R^2 score is not well-defined with less than two samples.\n",
            "  warnings.warn(msg, UndefinedMetricWarning)\n",
            "/usr/local/lib/python3.10/dist-packages/sklearn/metrics/_regression.py:1211: UndefinedMetricWarning: R^2 score is not well-defined with less than two samples.\n",
            "  warnings.warn(msg, UndefinedMetricWarning)\n"
          ]
        },
        {
          "output_type": "stream",
          "name": "stdout",
          "text": [
            "Linear Regression - MSE: 11.111111111110985, R-squared: nan\n",
            "Decision Tree Regressor - MSE: 10000.0, R-squared: nan\n",
            "Random Forest Regressor - MSE: 2209.0, R-squared: nan\n",
            "Gradient Boosting Regressor - MSE: 9999.82292479131, R-squared: nan\n",
            "\n",
            "Best Model based on MSE: Linear Regression\n"
          ]
        },
        {
          "output_type": "stream",
          "name": "stderr",
          "text": [
            "/usr/local/lib/python3.10/dist-packages/sklearn/metrics/_regression.py:1211: UndefinedMetricWarning: R^2 score is not well-defined with less than two samples.\n",
            "  warnings.warn(msg, UndefinedMetricWarning)\n"
          ]
        }
      ]
    }
  ]
}