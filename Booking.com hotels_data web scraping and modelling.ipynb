{
 "cells": [
  {
   "cell_type": "markdown",
   "id": "52fdcc92",
   "metadata": {},
   "source": [
    "# 1. Web scraping (BeautifulSoup)"
   ]
  },
  {
   "cell_type": "code",
   "execution_count": 1,
   "id": "96dd87ea",
   "metadata": {},
   "outputs": [],
   "source": [
    "from sklearn.ensemble import RandomForestRegressor, GradientBoostingRegressor\n",
    "from sklearn.metrics import mean_squared_error, r2_score\n",
    "from sklearn.model_selection import train_test_split\n",
    "from sklearn.linear_model import LinearRegression\n",
    "from sklearn.tree import DecisionTreeRegressor\n",
    "import matplotlib.pyplot as plt\n",
    "from bs4 import BeautifulSoup\n",
    "import seaborn as sns\n",
    "import pandas as pd\n",
    "import requests"
   ]
  },
  {
   "cell_type": "code",
   "execution_count": 2,
   "id": "3bc17cba",
   "metadata": {},
   "outputs": [],
   "source": [
    "# Base URL without the offset parameter\n",
    "base_url = 'https://www.booking.com/searchresults.html?label=gog235jc-1DCAEoggI46AdIM1gDaBGIAQGYATG4ARfIAQzYAQPoAQH4AQKIAgGoAgO4Aum8_60GwAIB0gIkZDE5MzNjYTEtYTgwZS00ODU3LWFiNmItZWFkODc2MDdjODdi2AIE4AIB&aid=397594&ss=United+States&lang=en-us&sb=1&src_elem=sb&src=index&dest_id=224&dest_type=country&ac_position=2&ac_click_type=b&ac_langcode=en&ac_suggestion_list_length=5&search_selected=true&search_pageview_id=058e8574f1a6008f&ac_meta=GhAwNThlODU3NGYxYTYwMDhmIAIoATICZW46BnVuaXRlZEAASgBQAA%3D%3D&checkin=2024-02-04&checkout=2024-02-05&group_adults=2&no_rooms=1&group_children=0&selected_currency=USD&offset={}'\n",
    "\n",
    "headers = {\n",
    "    'User-Agent': 'Mozilla/5.0 (X11; CrOS x86_64 8172.45.0) AppleWebKit/537.36 (KHTML, like Gecko) Chrome/51.0.2704.64 Safari/537.36',\n",
    "    'Accept-Language': 'en-US, en;q=0.5'\n",
    "}\n"
   ]
  },
  {
   "cell_type": "code",
   "execution_count": 3,
   "id": "3fef8b42",
   "metadata": {},
   "outputs": [],
   "source": [
    "hotel_results = []\n",
    "\n",
    "# Loop through pages 1 to 40\n",
    "for page_number in range(0, 250,25):\n",
    "    url = base_url.format(page_number)\n",
    "    \n",
    "    response = requests.get(url, headers=headers)\n",
    "    soup = BeautifulSoup(response.text, 'html.parser')\n",
    "\n",
    "    for el in soup.find_all(\"div\", {\"data-testid\": \"property-card\"}):\n",
    "        hotel_results.append({\n",
    "            \"name\": el.find(\"div\", {\"data-testid\": \"title\"}).text.strip(),\n",
    "            'description': el.find('div', {'data-testid': 'recommended-units', 'class': 'ccdd44706b'}).text.strip(),\n",
    "            \"location\": el.find(\"span\", {\"data-testid\": \"address\"}).text.strip(),\n",
    "            \"pricing\": el.find(\"span\", {\"data-testid\": \"price-and-discounted-price\"}).text.strip(),\n",
    "            \"rating\": el.find(\"div\", {\"data-testid\": \"review-score\"}).text.strip().split(\" \")[0],\n",
    "        })\n",
    "\n",
    "# Create DataFrame from the collected results\n",
    "hotels = pd.DataFrame(hotel_results)"
   ]
  },
  {
   "cell_type": "code",
   "execution_count": 5,
   "id": "198c7865",
   "metadata": {},
   "outputs": [
    {
     "data": {
      "text/html": [
       "<div>\n",
       "<style scoped>\n",
       "    .dataframe tbody tr th:only-of-type {\n",
       "        vertical-align: middle;\n",
       "    }\n",
       "\n",
       "    .dataframe tbody tr th {\n",
       "        vertical-align: top;\n",
       "    }\n",
       "\n",
       "    .dataframe thead th {\n",
       "        text-align: right;\n",
       "    }\n",
       "</style>\n",
       "<table border=\"1\" class=\"dataframe\">\n",
       "  <thead>\n",
       "    <tr style=\"text-align: right;\">\n",
       "      <th></th>\n",
       "      <th>name</th>\n",
       "      <th>description</th>\n",
       "      <th>location</th>\n",
       "      <th>pricing</th>\n",
       "      <th>rating</th>\n",
       "    </tr>\n",
       "  </thead>\n",
       "  <tbody>\n",
       "    <tr>\n",
       "      <th>0</th>\n",
       "      <td>Room in Single Family House - Suburban Neighbo...</td>\n",
       "      <td>Queen Room with Shared Bathroom1 queen bedOnly...</td>\n",
       "      <td>Boston</td>\n",
       "      <td>US$76</td>\n",
       "      <td>9.2Wonderful</td>\n",
       "    </tr>\n",
       "    <tr>\n",
       "      <th>1</th>\n",
       "      <td>B Ocean Resort</td>\n",
       "      <td>Chic City View King Accessible with Roll-in Sh...</td>\n",
       "      <td>Fort Lauderdale Beach, Fort Lauderdale</td>\n",
       "      <td>US$121</td>\n",
       "      <td>6.9Review</td>\n",
       "    </tr>\n",
       "    <tr>\n",
       "      <th>2</th>\n",
       "      <td>The Read House</td>\n",
       "      <td>The Manor - Accessible Double Queen 2 queen beds</td>\n",
       "      <td>City Center, Chattanooga</td>\n",
       "      <td>US$134</td>\n",
       "      <td>9.0Wonderful</td>\n",
       "    </tr>\n",
       "    <tr>\n",
       "      <th>3</th>\n",
       "      <td>Seahaven Beach Hotel Panama City Beach</td>\n",
       "      <td>Two Room SuitePrivate suite • 2 bedrooms • 1 l...</td>\n",
       "      <td>Panama City Beach</td>\n",
       "      <td>US$63</td>\n",
       "      <td>4.6Review</td>\n",
       "    </tr>\n",
       "    <tr>\n",
       "      <th>4</th>\n",
       "      <td>San Mateo Inn</td>\n",
       "      <td>Double Room with Two Double Beds - Non-Smoking...</td>\n",
       "      <td>Albuquerque</td>\n",
       "      <td>US$63</td>\n",
       "      <td>7.7Good</td>\n",
       "    </tr>\n",
       "  </tbody>\n",
       "</table>\n",
       "</div>"
      ],
      "text/plain": [
       "                                                name  \\\n",
       "0  Room in Single Family House - Suburban Neighbo...   \n",
       "1                                     B Ocean Resort   \n",
       "2                                     The Read House   \n",
       "3             Seahaven Beach Hotel Panama City Beach   \n",
       "4                                      San Mateo Inn   \n",
       "\n",
       "                                         description  \\\n",
       "0  Queen Room with Shared Bathroom1 queen bedOnly...   \n",
       "1  Chic City View King Accessible with Roll-in Sh...   \n",
       "2   The Manor - Accessible Double Queen 2 queen beds   \n",
       "3  Two Room SuitePrivate suite • 2 bedrooms • 1 l...   \n",
       "4  Double Room with Two Double Beds - Non-Smoking...   \n",
       "\n",
       "                                 location pricing        rating  \n",
       "0                                  Boston   US$76  9.2Wonderful  \n",
       "1  Fort Lauderdale Beach, Fort Lauderdale  US$121     6.9Review  \n",
       "2                City Center, Chattanooga  US$134  9.0Wonderful  \n",
       "3                       Panama City Beach   US$63     4.6Review  \n",
       "4                             Albuquerque   US$63       7.7Good  "
      ]
     },
     "execution_count": 5,
     "metadata": {},
     "output_type": "execute_result"
    }
   ],
   "source": [
    "hotels.head()"
   ]
  },
  {
   "cell_type": "markdown",
   "id": "e6c9e123",
   "metadata": {},
   "source": [
    "# 2. Data Discovering and some analysis"
   ]
  },
  {
   "cell_type": "code",
   "execution_count": 17,
   "id": "af62f024",
   "metadata": {
    "scrolled": false
   },
   "outputs": [
    {
     "name": "stdout",
     "output_type": "stream",
     "text": [
      "<class 'pandas.core.frame.DataFrame'>\n",
      "Int64Index: 249 entries, 0 to 249\n",
      "Data columns (total 5 columns):\n",
      " #   Column       Non-Null Count  Dtype  \n",
      "---  ------       --------------  -----  \n",
      " 0   name         249 non-null    object \n",
      " 1   description  249 non-null    object \n",
      " 2   location     249 non-null    object \n",
      " 3   pricing      249 non-null    float64\n",
      " 4   rating       249 non-null    float64\n",
      "dtypes: float64(2), object(3)\n",
      "memory usage: 11.7+ KB\n"
     ]
    }
   ],
   "source": [
    "hotels.info()"
   ]
  },
  {
   "cell_type": "code",
   "execution_count": 8,
   "id": "08d7462a",
   "metadata": {},
   "outputs": [
    {
     "name": "stderr",
     "output_type": "stream",
     "text": [
      "C:\\Users\\ASUS\\AppData\\Local\\Temp/ipykernel_20072/3649766623.py:1: FutureWarning: The default value of regex will change from True to False in a future version.\n",
      "  hotels['pricing'] = hotels['pricing'].str.replace('US\\$', '').astype(float)\n"
     ]
    }
   ],
   "source": [
    "hotels['pricing'] = hotels['pricing'].str.replace('US\\$', '').astype(float)\n",
    "hotels['rating'] = hotels['rating'].str.extract('(\\d+\\.\\d+)')\n",
    "# Convert the 'rating' column to numeric\n",
    "hotels['rating'] = pd.to_numeric(hotels['rating'], errors='coerce')"
   ]
  },
  {
   "cell_type": "code",
   "execution_count": null,
   "id": "1d798fe7",
   "metadata": {},
   "outputs": [],
   "source": [
    "# Drop rows with missing values in the 'rating' column\n",
    "hotels.dropna(subset=['rating'],inplace=True)"
   ]
  },
  {
   "cell_type": "code",
   "execution_count": 18,
   "id": "d884ee65",
   "metadata": {},
   "outputs": [
    {
     "name": "stdout",
     "output_type": "stream",
     "text": [
      "          pricing      rating\n",
      "count  249.000000  249.000000\n",
      "mean   114.449799    8.167068\n",
      "std     51.403983    0.667113\n",
      "min     39.000000    4.600000\n",
      "25%     84.000000    7.800000\n",
      "50%    101.000000    8.200000\n",
      "75%    129.000000    8.700000\n",
      "max    454.000000    9.600000\n",
      "Spencer         3\n",
      "Santa Rosa      3\n",
      "Broken Bow      3\n",
      "Yuma            3\n",
      "Hildale         3\n",
      "               ..\n",
      "Tampa           1\n",
      "Bryce Canyon    1\n",
      "Gunnison        1\n",
      "Natchez         1\n",
      "Stevenson       1\n",
      "Name: location, Length: 204, dtype: int64\n"
     ]
    }
   ],
   "source": [
    "# Descriptive statistics\n",
    "print(hotels.describe())\n",
    "\n",
    "# Unique values and value counts\n",
    "print(hotels['location'].value_counts())"
   ]
  },
  {
   "cell_type": "code",
   "execution_count": 20,
   "id": "bc487162",
   "metadata": {
    "scrolled": true
   },
   "outputs": [
    {
     "name": "stdout",
     "output_type": "stream",
     "text": [
      "         pricing   rating\n",
      "pricing  1.00000  0.25791\n",
      "rating   0.25791  1.00000\n"
     ]
    }
   ],
   "source": [
    "# Correlation matrix\n",
    "correlation_matrix = hotels.corr()\n",
    "print(correlation_matrix)"
   ]
  },
  {
   "cell_type": "code",
   "execution_count": 21,
   "id": "0bb61bf4",
   "metadata": {},
   "outputs": [
    {
     "data": {
      "image/png": "[encoded data removed]",
      "text/plain": [
       "<Figure size 432x288 with 1 Axes>"
      ]
     },
     "metadata": {
      "needs_background": "light"
     },
     "output_type": "display_data"
    }
   ],
   "source": [
    "# Distribution plot for pricing\n",
    "sns.histplot(hotels['pricing'], kde=True)\n",
    "plt.show()"
   ]
  },
  {
   "cell_type": "code",
   "execution_count": 22,
   "id": "d89c9676",
   "metadata": {},
   "outputs": [
    {
     "data": {
      "image/png": "[encoded data removed]",
      "text/plain": [
       "<Figure size 432x288 with 1 Axes>"
      ]
     },
     "metadata": {
      "needs_background": "light"
     },
     "output_type": "display_data"
    }
   ],
   "source": [
    "# Scatter plot for rating vs pricing\n",
    "sns.scatterplot(data=hotels, x='rating', y='pricing')\n",
    "plt.show()"
   ]
  },
  {
   "cell_type": "code",
   "execution_count": 23,
   "id": "150368a5",
   "metadata": {},
   "outputs": [
    {
     "data": {
      "image/png": "[encoded data removed]",
      "text/plain": [
       "<Figure size 432x288 with 1 Axes>"
      ]
     },
     "metadata": {
      "needs_background": "light"
     },
     "output_type": "display_data"
    }
   ],
   "source": [
    "# Box plot for 'pricing'\n",
    "sns.boxplot(x=hotels['pricing'])\n",
    "plt.show()"
   ]
  },
  {
   "cell_type": "markdown",
   "id": "40d818f1",
   "metadata": {},
   "source": [
    "# 3. Modelling before outlier detection"
   ]
  },
  {
   "cell_type": "code",
   "execution_count": 24,
   "id": "9a2345fa",
   "metadata": {},
   "outputs": [
    {
     "name": "stdout",
     "output_type": "stream",
     "text": [
      "Mean Squared Error: 1016.5779957905075\n",
      "R-squared: 0.033899223994536265\n"
     ]
    }
   ],
   "source": [
    "# Split data into training and testing sets\n",
    "X_train, X_test, y_train, y_test = train_test_split(hotels[['rating']], hotels['pricing'], test_size=0.2, random_state=42)\n",
    "\n",
    "# Create and train the linear regression model\n",
    "model = LinearRegression()\n",
    "model.fit(X_train, y_train)\n",
    "\n",
    "# Make predictions on the test set\n",
    "predictions = model.predict(X_test)\n",
    "\n",
    "# Evaluate the model\n",
    "mse = mean_squared_error(y_test, predictions)\n",
    "r2 = r2_score(y_test, predictions)\n",
    "\n",
    "print(f'Mean Squared Error: {mse}')\n",
    "print(f'R-squared: {r2}')\n"
   ]
  },
  {
   "cell_type": "code",
   "execution_count": 25,
   "id": "a476c317",
   "metadata": {},
   "outputs": [
    {
     "name": "stdout",
     "output_type": "stream",
     "text": [
      "Number of outliers in pricing: 17\n"
     ]
    }
   ],
   "source": [
    "Q1 = hotels['pricing'].quantile(0.25)\n",
    "Q3 = hotels['pricing'].quantile(0.75)\n",
    "IQR = Q3 - Q1\n",
    "\n",
    "lower_bound = Q1 - 1.5 * IQR\n",
    "upper_bound = Q3 + 1.5 * IQR\n",
    "\n",
    "count_outliers = hotels[(hotels['pricing'] < lower_bound) | (hotels['pricing'] > upper_bound)].shape[0]\n",
    "\n",
    "print(f'Number of outliers in pricing: {count_outliers}')\n"
   ]
  },
  {
   "cell_type": "code",
   "execution_count": 26,
   "id": "ad39b31e",
   "metadata": {},
   "outputs": [],
   "source": [
    "Q1 = hotels['pricing'].quantile(0.25)\n",
    "Q3 = hotels['pricing'].quantile(0.75)\n",
    "IQR = Q3 - Q1\n"
   ]
  },
  {
   "cell_type": "code",
   "execution_count": 27,
   "id": "06f16429",
   "metadata": {},
   "outputs": [],
   "source": [
    "lower_bound = Q1 - 1.5 * IQR\n",
    "upper_bound = Q3 + 1.5 * IQR\n",
    "\n",
    "outliers = hotels[(hotels['pricing'] < lower_bound) | (hotels['pricing'] > upper_bound)]\n",
    "# Remove outliers\n",
    "hotels_no_outliers = hotels[(hotels['pricing'] >= lower_bound) & (hotels['pricing'] <= upper_bound)]"
   ]
  },
  {
   "cell_type": "code",
   "execution_count": 28,
   "id": "860f9319",
   "metadata": {},
   "outputs": [
    {
     "data": {
      "image/png": "[encoded data removed]",
      "text/plain": [
       "<Figure size 432x288 with 1 Axes>"
      ]
     },
     "metadata": {
      "needs_background": "light"
     },
     "output_type": "display_data"
    }
   ],
   "source": [
    "# Box plot for 'pricing'\n",
    "sns.boxplot(x=hotels_no_outliers['pricing'])\n",
    "plt.show()"
   ]
  },
  {
   "cell_type": "markdown",
   "id": "d2af4606",
   "metadata": {},
   "source": [
    "# 4. Modelling after removing outliers and choosing best model"
   ]
  },
  {
   "cell_type": "code",
   "execution_count": 29,
   "id": "f5c11102",
   "metadata": {},
   "outputs": [
    {
     "name": "stdout",
     "output_type": "stream",
     "text": [
      "Linear Regression - MSE: 712.2621284944237, R-squared: 0.1811459877466589\n",
      "Decision Tree Regressor - MSE: 859.3915361915411, R-squared: 0.011998280753017454\n",
      "Random Forest Regressor - MSE: 801.8887215901107, R-squared: 0.07810654141791107\n",
      "Gradient Boosting Regressor - MSE: 835.3452136682051, R-squared: 0.03964319810920647\n",
      "\n",
      "Best Model based on MSE: Linear Regression\n"
     ]
    }
   ],
   "source": [
    "# Prepare the data\n",
    "X = hotels_no_outliers[['rating']]\n",
    "y = hotels_no_outliers['pricing']\n",
    "\n",
    "# Split the data into training and testing sets\n",
    "X_train, X_test, y_train, y_test = train_test_split(X, y, test_size=0.2, random_state=42)\n",
    "\n",
    "# Models\n",
    "models = {\n",
    "    'Linear Regression': LinearRegression(),\n",
    "    'Decision Tree Regressor': DecisionTreeRegressor(random_state=42),\n",
    "    'Random Forest Regressor': RandomForestRegressor(n_estimators=100, random_state=42),\n",
    "    'Gradient Boosting Regressor': GradientBoostingRegressor(n_estimators=100, learning_rate=0.1, random_state=42)\n",
    "}\n",
    "\n",
    "# Train and evaluate each model\n",
    "results = {}\n",
    "for model_name, model in models.items():\n",
    "    model.fit(X_train, y_train)\n",
    "    predictions = model.predict(X_test)\n",
    "    mse = mean_squared_error(y_test, predictions)\n",
    "    r_squared = r2_score(y_test, predictions)\n",
    "    results[model_name] = {'MSE': mse, 'R-squared': r_squared}\n",
    "\n",
    "# Print the results\n",
    "for model_name, scores in results.items():\n",
    "    print(f\"{model_name} - MSE: {scores['MSE']}, R-squared: {scores['R-squared']}\")\n",
    "\n",
    "# Choose the best model based on MSE or R-squared (based on preference)\n",
    "best_model = min(results, key=lambda k: results[k]['MSE'])\n",
    "print(f\"\\nBest Model based on MSE: {best_model}\")\n"
   ]
  }
 ],
 "metadata": {
  "kernelspec": {
   "display_name": "Python 3 (ipykernel)",
   "language": "python",
   "name": "python3"
  },
  "language_info": {
   "codemirror_mode": {
    "name": "ipython",
    "version": 3
   },
   "file_extension": ".py",
   "mimetype": "text/x-python",
   "name": "python",
   "nbconvert_exporter": "python",
   "pygments_lexer": "ipython3",
   "version": "3.9.7"
  }
 },
 "nbformat": 4,
 "nbformat_minor": 5
}
